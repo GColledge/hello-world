{
 "cells": [
  {
   "cell_type": "code",
   "execution_count": 1,
   "metadata": {},
   "outputs": [],
   "source": [
    "from sklearn.feature_extraction.text import CountVectorizer"
   ]
  },
  {
   "cell_type": "code",
   "execution_count": 85,
   "metadata": {},
   "outputs": [
    {
     "name": "stdout",
     "output_type": "stream",
     "text": [
      "['administrative professional', 'maternity and family leave', 'customer service associate', 'patient services coordinator', 'clinical admin team lead', 'credentialing specialist managed care', 'credentialing specialist credentialing verification office', 'professional tutor', 'senior marketing executive', 'united states youth ambassador', 'sales trainer and blocker', 'cardiac stent researcher', 'scholarship ambassador', 'radiation oncology researcher', 'student member', 'certified personal coach', 'account management', 'healthcare recruiting manager', 'program director business development travel nursing', 'national recruiting manager travelmax', 'recruiting supervisor', 'managing director', 'realtor', 'realtor', 'pool concierge server', 'line  prep cook', 'account manager | executive and technical recruiter | business consultant', 'surgeon recruiter', 'owner', 'district sales manager for greater dayton area']\n"
     ]
    }
   ],
   "source": [
    "from MyFunctions import prettify\n",
    "from nltk import word_tokenize\n",
    "initialList = ['administrative_professional\tmaternity_and_family_leave\tcustomer_service_associate\tpatient_services_coordinator\tclinical_admin_team_lead\tcredentialing_specialist_managed_care\tcredentialing_specialist_credentialing_verification_office',\n",
    "'professional_tutor\tsenior_marketing_executive\tunited_states_youth_ambassador\tsales_trainer_and_blocker\tcardiac_stent_researcher\tscholarship_ambassador\tradiation_oncology_researcher\tstudent_member',\n",
    "'certified_personal_coach\taccount_management\thealthcare_recruiting_manager\tprogram_director_business_development_travel_nursing\tnational_recruiting_manager_travelmax\trecruiting_supervisor\tmanaging_director',\n",
    "'realtor\trealtor',\n",
    "'pool_concierge_server\tline__prep_cook\taccount_manager_|_executive_and_technical_recruiter_|_business_consultant\tsurgeon_recruiter',\n",
    "'owner\tdistrict_sales_manager_for_greater_dayton_area\tinsurance_sales_representative_pandc_landh\towner\towner_appraiser\towner_appraiser',\n",
    "'reactive_programming_teaching_assistant\tfp101x_teaching_assistant\tsoftware_engineer\tsoftware_engineer\tprincipal_software_engineer',\n",
    "'intern\tapplication_engineer\tsenior_applications_engineer\tsoftware_engineer\tsenior_software_engineer\tstaff_software_engineer\tprincipal_software_engineer\tsenior_software_engineering_manager__principal_software_engineer',\n",
    "'pfs_team_summer_intern\tqa_automation_developer_intern\tassociate_application_developer\tsoftware_developer\tstaff_software_engineer\tsoftware_engineer',\n",
    "'software_engineer\tphd_fellow_hp_labs_india\tsoftware_engineer\tprincipal_software_engineer\tsenior_data_science_manager_principal_engineer\tsenior_data_science_manager_principal_engineer\tdirector_of_machine_learning',\n",
    "'research_assistant\tsoftware_engineer\tsoftware_engineer',\n",
    "'lead_researcher__software_engineer\tteaching_assistant\tsoftware_development_engineer\tsenior_software_engineer\tstaff_software_engineer\tsoftware_engineer',\n",
    "'system_administrator\tsystem_analyst\ttech_consultant\tsenior_principal_consultant\tstaff_software_engineer',\n",
    "'software_engineer\tsoftware_engineering_intern\tsenior_software_engineer\tsenior_software_engineer\tengineer',\n",
    "'programmer_analyst_senior_associate\ttechnical_lead\tsenior_software_engineer\tmember_of_technical_staff_1_software_engineer\tmts2_software_engineer\tmanager2_software_development\tengineering_manager_architect\tsenior_engineering_manager',\n",
    "'it_consultant\tsoftware_engineer']\n",
    "myStrings = []\n",
    "for each in initialList:\n",
    "    titles = prettify(each)\n",
    "    for t in titles:\n",
    "       myStrings.append(t) \n",
    "print(myStrings[0:30])\n",
    "corpus = myStrings;\n",
    "vectorizer = CountVectorizer()"
   ]
  },
  {
   "cell_type": "code",
   "execution_count": 86,
   "metadata": {},
   "outputs": [
    {
     "name": "stdout",
     "output_type": "stream",
     "text": [
      "  (0, 25)\t1\n",
      "  (1, 3)\t1\n",
      "  (2, 7)\t1\n",
      "  (4, 19)\t1\n",
      "  (4, 38)\t1\n",
      "  (5, 34)\t1\n",
      "  (5, 10)\t1\n",
      "  (6, 34)\t1\n",
      "  (6, 10)\t2\n",
      "  (7, 25)\t1\n",
      "  (8, 17)\t1\n",
      "  (8, 32)\t1\n",
      "  (9, 1)\t1\n",
      "  (10, 30)\t1\n",
      "  (10, 3)\t1\n",
      "  (11, 29)\t1\n",
      "  (12, 1)\t1\n",
      "  (13, 29)\t1\n",
      "  (14, 21)\t1\n",
      "  (16, 0)\t1\n",
      "  (17, 20)\t1\n",
      "  (17, 28)\t1\n",
      "  (18, 13)\t1\n",
      "  (18, 8)\t1\n",
      "  (18, 14)\t1\n",
      "  :\t:\n",
      "  (79, 32)\t1\n",
      "  (79, 7)\t1\n",
      "  (80, 39)\t1\n",
      "  (80, 19)\t1\n",
      "  (81, 15)\t1\n",
      "  (81, 33)\t1\n",
      "  (81, 32)\t1\n",
      "  (82, 22)\t1\n",
      "  (82, 35)\t1\n",
      "  (82, 15)\t1\n",
      "  (82, 33)\t1\n",
      "  (82, 39)\t1\n",
      "  (82, 21)\t1\n",
      "  (83, 15)\t1\n",
      "  (83, 33)\t1\n",
      "  (84, 33)\t1\n",
      "  (84, 13)\t1\n",
      "  (85, 16)\t1\n",
      "  (85, 20)\t1\n",
      "  (86, 16)\t1\n",
      "  (86, 20)\t1\n",
      "  (86, 32)\t1\n",
      "  (87, 9)\t1\n",
      "  (88, 15)\t1\n",
      "  (88, 33)\t1\n"
     ]
    }
   ],
   "source": [
    "print( vectorizer.fit_transform(corpus) )\n"
   ]
  },
  {
   "cell_type": "code",
   "execution_count": 94,
   "metadata": {},
   "outputs": [
    {
     "name": "stdout",
     "output_type": "stream",
     "text": [
      "{'professional': 25, 'and': 3, 'associate': 7, 'team': 38, 'lead': 19, 'credentialing': 10, 'specialist': 34, 'senior': 32, 'executive': 17, 'ambassador': 1, 'sales': 30, 'researcher': 29, 'member': 21, 'account': 0, 'recruiting': 28, 'manager': 20, 'director': 14, 'business': 8, 'development': 13, 'realtor': 26, 'technical': 39, 'recruiter': 27, 'consultant': 9, 'owner': 23, 'appraiser': 5, 'teaching': 37, 'assistant': 6, 'software': 33, 'engineer': 15, 'principal': 24, 'intern': 18, 'application': 4, 'staff': 35, 'engineering': 16, 'developer': 12, 'data': 11, 'science': 31, 'of': 22, 'system': 36, 'analyst': 2}\n",
      "\n",
      "\n",
      "['account', 'ambassador', 'analyst', 'and', 'application', 'appraiser', 'assistant', 'associate', 'business', 'consultant', 'credentialing', 'data', 'developer', 'development', 'director', 'engineer', 'engineering', 'executive', 'intern', 'lead', 'manager', 'member', 'of', 'owner', 'principal', 'professional', 'realtor', 'recruiter', 'recruiting', 'researcher', 'sales', 'science', 'senior', 'software', 'specialist', 'staff', 'system', 'teaching', 'team', 'technical']\n",
      "\n",
      "\n",
      "{'youth', 'stent', 'cook', 'insurance', 'qa', 'hp', 'fellow', 'research', 'learning', 'applications', 'manager2', 'landh', 'tech', 'national', 'office', 'pfs', 'machine', 'architect', 'server', 'admin', 'phd', 'labs', 'trainer', 'family', 'verification', 'nursing', 'travelmax', 'united', 'pool', 'representative', 'customer', 'coach', 'prep', 'dayton', 'leave', 'student', 'care', 'programming', 'for', 'summer', 'india', 'it', 'administrator', 'patient', 'surgeon', 'programmer', 'line', 'cardiac', 'greater', 'personal', 'states', 'area', 'certified', 'mts2', 'travel', 'healthcare', 'concierge', 'district', 'service', 'program', 'managing', 'pandc', 'reactive', 'scholarship', 'managed', 'radiation', 'management', 'maternity', 'blocker', 'oncology', 'administrative', 'coordinator', 'tutor', 'fp101x', 'automation', 'services', 'clinical', 'supervisor', 'marketing'}\n",
      "['account', 'ambassador', 'analyst', 'and', 'application', 'appraiser', 'assistant', 'associate', 'business', 'consultant', 'credentialing', 'data', 'developer', 'development', 'director', 'engineer', 'engineering', 'executive', 'intern', 'lead', 'manager', 'member', 'of', 'owner', 'principal', 'professional', 'realtor', 'recruiter', 'recruiting', 'researcher', 'sales', 'science', 'senior', 'software', 'specialist', 'staff', 'system', 'teaching', 'team', 'technical']\n"
     ]
    }
   ],
   "source": [
    "print( vectorizer.vocabulary_ )\n",
    "print('\\n')\n",
    "print(vectorizer.get_feature_names())\n",
    "print('\\n')\n",
    "print(vectorizer.stop_words_)\n",
    "\n",
    "#This is a little block of code that creates a list of words used in the corpus ordered by number.\n",
    "#It turns out this is useless as the \"vectorizer.get_feature_names()\" method is the same thing.\n",
    "keyList = [None] * len(vectorizer.vocabulary_)\n",
    "for key in vectorizer.vocabulary_:\n",
    "    keyList[vectorizer.vocabulary_[key]]=key\n",
    "    \n",
    "print(keyList)"
   ]
  },
  {
   "cell_type": "code",
   "execution_count": 84,
   "metadata": {},
   "outputs": [
    {
     "name": "stdout",
     "output_type": "stream",
     "text": [
      "[[ 0  0  0  0  0  0]\n",
      " [ 3  0  0  0  4  0]\n",
      " [ 0  0  0  1  0  0]\n",
      " [14  0  0  0 14  0]\n",
      " [ 0  0  0  0  0  0]\n",
      " [ 0  1  0  0  0  0]\n",
      " [ 0  0  0  0  0  0]]\n"
     ]
    }
   ],
   "source": [
    "test = vectorizer.transform([' administrative professional maternity and family leave customer service associate patient services coordinator clinical admin team lead credentialing specialist managed care credentialing specialist credentialing verification office',' software developer intern teaching assistant software engineer software engineer software engineer','senior technical recruiter', 'software engineer software engineer software engineer software engineer software engineer software engineer software engineer software engineer software engineer software engineer software engineer software engineer software engineer software engineer', 'computer programmer', 'technical program manager', 'machine leraning specialist and data analyst'])\n",
    "print(test.toarray())"
   ]
  },
  {
   "cell_type": "markdown",
   "metadata": {},
   "source": [
    "Now that we have the model, we can turn each row in the data set into a vector for the dataframe."
   ]
  },
  {
   "cell_type": "code",
   "execution_count": 6,
   "metadata": {},
   "outputs": [
    {
     "name": "stdout",
     "output_type": "stream",
     "text": [
      "[[' software developer intern teaching assistant software engineer software engineer software engineer'], [' israel sociological society cochairman of gender comunity founder and coeditor of migdar (gender) academic journal lecturer book author'], [' member ceo member of the board president member of the board member of the board'], [' editorial assistant editorial assistant'], [' dr med neuroradiologist dr med radiology departement dr med specialised in neuroradiology and head and neck radiology neuroradiologue fmh et radiologue orl'], [' president chair endovascular and interventional neurology section director interventional neurology codirector neroendovascular surgery professor of neurology and neurosurgery fellow of society of vascular and interventional neurology faha (fellow of american heart association) fellow of american academy of neurology'], [' especialista de neurocirugia especialista de neurocirugia especialista de neurocirugia  especialista de neurocirugia mdico especialista mdico'], [' administrative professional maternity and family leave customer service associate patient services coordinator clinical admin team lead credentialing specialist managed care credentialing specialist credentialing verification office'], [' professional tutor senior marketing executive united states youth ambassador sales trainer and blocker cardiac stent researcher scholarship ambassador radiation oncology researcher student member'], [' certified personal coach account management healthcare recruiting manager program director business development travel nursing national recruiting manager travelmax recruiting supervisor managing director']]\n"
     ]
    }
   ],
   "source": [
    "#Each career path becomes it own list. \n",
    "pathList = [] # The list of career path lists\n",
    "DataFile = open(\"/Users/gregorycolledge/gcolledge/gcolledge/MSD_6019/allPaths.txt\");\n",
    "for i in range(0,1000):\n",
    "    careerPath = DataFile.readline();\n",
    "    careerPathList = prettify(careerPath);\n",
    "    pathString = \"\"\n",
    "    for title in careerPathList:\n",
    "        pathString = pathString + \" \" + title\n",
    "    pathList.append([pathString]);\n",
    "DataFile.close();\n",
    "print(pathList[:10])"
   ]
  },
  {
   "cell_type": "code",
   "execution_count": 17,
   "metadata": {},
   "outputs": [
    {
     "name": "stdout",
     "output_type": "stream",
     "text": [
      "1000\n",
      "[array([[0, 0, 0, 0, 0, 0, 0, 0, 0, 0, 0, 0, 1, 0, 0, 0, 0, 0, 0, 0, 0, 0,\n",
      "        0, 0, 0, 0, 0, 0, 0, 0, 1, 0, 0, 0, 3, 0, 0, 0, 0, 0, 0, 0, 0, 0,\n",
      "        0, 0, 1, 0, 0, 0, 0, 0, 0, 0, 0, 0, 0, 0, 0, 0, 0, 0, 0, 0, 0, 0,\n",
      "        0, 0, 0, 0, 0, 0, 0, 0, 0, 0, 0, 0, 0, 0, 0, 0, 0, 0, 0, 0, 0, 0,\n",
      "        0, 0, 0, 0, 0, 0, 0, 0, 0, 0, 4, 0, 0, 0, 0, 0, 0, 0, 0, 0, 1, 0,\n",
      "        0, 0, 0, 0, 0, 0, 0, 0, 0]]), array([[0, 0, 0, 0, 0, 0, 1, 0, 0, 0, 0, 0, 0, 0, 0, 0, 0, 0, 0, 0, 0, 0,\n",
      "        0, 0, 0, 0, 0, 0, 0, 0, 0, 0, 0, 0, 0, 0, 0, 0, 0, 0, 0, 0, 0, 0,\n",
      "        0, 0, 0, 0, 0, 0, 0, 0, 0, 0, 0, 0, 0, 0, 0, 0, 0, 0, 0, 0, 0, 0,\n",
      "        2, 0, 0, 0, 0, 0, 0, 0, 0, 0, 0, 0, 0, 0, 0, 0, 0, 0, 0, 0, 0, 0,\n",
      "        0, 0, 0, 0, 0, 0, 0, 0, 0, 0, 0, 0, 0, 0, 0, 0, 0, 0, 0, 0, 0, 0,\n",
      "        0, 0, 0, 0, 0, 0, 0, 0, 0]]), array([[0, 0, 0, 0, 0, 0, 0, 0, 0, 0, 0, 0, 0, 0, 0, 0, 0, 0, 0, 0, 0, 0,\n",
      "        0, 0, 0, 0, 0, 0, 0, 0, 0, 0, 0, 0, 0, 0, 0, 0, 0, 0, 0, 0, 0, 0,\n",
      "        0, 0, 0, 0, 0, 0, 0, 0, 0, 0, 0, 0, 0, 0, 0, 0, 0, 0, 4, 0, 0, 0,\n",
      "        3, 0, 0, 0, 0, 0, 0, 0, 0, 0, 0, 0, 0, 0, 0, 0, 0, 0, 0, 0, 0, 0,\n",
      "        0, 0, 0, 0, 0, 0, 0, 0, 0, 0, 0, 0, 0, 0, 0, 0, 0, 0, 0, 0, 0, 0,\n",
      "        0, 0, 0, 0, 0, 0, 0, 0, 0]]), array([[0, 0, 0, 0, 0, 0, 0, 0, 0, 0, 0, 0, 2, 0, 0, 0, 0, 0, 0, 0, 0, 0,\n",
      "        0, 0, 0, 0, 0, 0, 0, 0, 0, 0, 0, 0, 0, 0, 0, 0, 0, 0, 0, 0, 0, 0,\n",
      "        0, 0, 0, 0, 0, 0, 0, 0, 0, 0, 0, 0, 0, 0, 0, 0, 0, 0, 0, 0, 0, 0,\n",
      "        0, 0, 0, 0, 0, 0, 0, 0, 0, 0, 0, 0, 0, 0, 0, 0, 0, 0, 0, 0, 0, 0,\n",
      "        0, 0, 0, 0, 0, 0, 0, 0, 0, 0, 0, 0, 0, 0, 0, 0, 0, 0, 0, 0, 0, 0,\n",
      "        0, 0, 0, 0, 0, 0, 0, 0, 0]]), array([[0, 0, 0, 0, 0, 0, 2, 0, 0, 0, 0, 0, 0, 0, 0, 0, 0, 0, 0, 0, 0, 0,\n",
      "        0, 0, 0, 0, 0, 0, 0, 0, 0, 0, 0, 0, 0, 0, 0, 0, 0, 0, 0, 0, 0, 0,\n",
      "        0, 0, 0, 0, 0, 0, 0, 0, 0, 0, 0, 0, 0, 0, 0, 0, 0, 0, 0, 0, 0, 0,\n",
      "        0, 0, 0, 0, 0, 0, 0, 0, 0, 0, 0, 0, 0, 0, 0, 0, 0, 0, 0, 0, 0, 0,\n",
      "        0, 0, 0, 0, 0, 0, 0, 0, 0, 0, 0, 0, 0, 0, 0, 0, 0, 0, 0, 0, 0, 0,\n",
      "        0, 0, 0, 0, 0, 0, 0, 0, 0]]), array([[0, 0, 0, 0, 0, 0, 3, 0, 0, 0, 0, 0, 0, 0, 0, 0, 0, 0, 0, 0, 0, 0,\n",
      "        0, 0, 0, 0, 0, 0, 0, 0, 0, 0, 1, 0, 0, 0, 0, 0, 3, 0, 0, 0, 0, 0,\n",
      "        0, 0, 0, 0, 0, 0, 0, 0, 0, 0, 0, 0, 0, 0, 0, 0, 0, 0, 0, 0, 0, 0,\n",
      "        6, 0, 0, 0, 0, 0, 0, 0, 0, 0, 0, 0, 0, 0, 0, 0, 0, 0, 0, 0, 0, 0,\n",
      "        0, 0, 0, 0, 0, 0, 0, 0, 0, 0, 0, 0, 0, 0, 0, 0, 0, 0, 0, 0, 0, 0,\n",
      "        0, 0, 0, 0, 0, 0, 0, 0, 0]]), array([[0, 0, 0, 0, 0, 0, 0, 0, 0, 0, 0, 0, 0, 0, 0, 0, 0, 0, 0, 0, 0, 0,\n",
      "        0, 0, 0, 0, 0, 0, 0, 0, 0, 0, 0, 0, 0, 0, 0, 0, 0, 0, 0, 0, 0, 0,\n",
      "        0, 0, 0, 0, 0, 0, 0, 0, 0, 0, 0, 0, 0, 0, 0, 0, 0, 0, 0, 0, 0, 0,\n",
      "        0, 0, 0, 0, 0, 0, 0, 0, 0, 0, 0, 0, 0, 0, 0, 0, 0, 0, 0, 0, 0, 0,\n",
      "        0, 0, 0, 0, 0, 0, 0, 0, 0, 0, 0, 0, 0, 0, 0, 0, 0, 0, 0, 0, 0, 0,\n",
      "        0, 0, 0, 0, 0, 0, 0, 0, 0]]), array([[0, 1, 1, 0, 0, 0, 1, 0, 0, 0, 0, 0, 0, 1, 0, 0, 0, 0, 1, 0, 1, 0,\n",
      "        0, 0, 0, 1, 3, 1, 0, 0, 0, 0, 0, 0, 0, 0, 0, 1, 0, 0, 0, 0, 0, 0,\n",
      "        0, 0, 0, 0, 0, 0, 1, 0, 1, 0, 0, 1, 0, 0, 0, 0, 0, 1, 0, 0, 0, 0,\n",
      "        0, 1, 0, 0, 0, 1, 0, 0, 0, 0, 0, 0, 1, 0, 0, 0, 0, 0, 0, 0, 0, 0,\n",
      "        0, 0, 0, 0, 0, 0, 0, 0, 1, 1, 0, 2, 0, 0, 0, 0, 0, 0, 0, 0, 0, 1,\n",
      "        0, 0, 0, 0, 0, 0, 0, 1, 0]]), array([[0, 0, 0, 0, 2, 0, 1, 0, 0, 0, 0, 0, 0, 0, 0, 1, 0, 1, 0, 0, 0, 0,\n",
      "        0, 0, 0, 0, 0, 0, 0, 0, 0, 0, 0, 0, 0, 0, 1, 0, 0, 0, 0, 0, 0, 0,\n",
      "        0, 0, 0, 0, 0, 0, 0, 0, 0, 0, 0, 0, 0, 0, 0, 0, 1, 0, 1, 0, 0, 0,\n",
      "        0, 0, 1, 0, 0, 0, 0, 0, 0, 0, 0, 0, 1, 0, 0, 0, 0, 1, 0, 0, 0, 0,\n",
      "        0, 0, 2, 1, 1, 0, 1, 0, 0, 0, 0, 0, 0, 1, 1, 1, 0, 0, 0, 0, 0, 0,\n",
      "        0, 0, 1, 0, 0, 1, 1, 0, 1]]), array([[1, 0, 0, 0, 0, 0, 0, 0, 0, 0, 0, 0, 0, 0, 0, 0, 1, 0, 0, 1, 0, 1,\n",
      "        0, 0, 0, 0, 0, 0, 0, 0, 0, 1, 2, 0, 0, 0, 0, 0, 0, 0, 0, 0, 1, 0,\n",
      "        0, 0, 0, 0, 0, 0, 0, 0, 0, 0, 0, 0, 1, 2, 0, 1, 0, 0, 0, 0, 1, 1,\n",
      "        0, 0, 0, 0, 0, 0, 1, 0, 0, 0, 0, 0, 0, 1, 0, 0, 0, 0, 0, 0, 0, 3,\n",
      "        0, 0, 0, 0, 0, 0, 0, 0, 0, 0, 0, 0, 0, 0, 0, 0, 0, 1, 0, 0, 0, 0,\n",
      "        0, 0, 0, 1, 1, 0, 0, 0, 0]])]\n"
     ]
    }
   ],
   "source": [
    "vectorizedRows = []\n",
    "for path in pathList:\n",
    "    temp = vectorizer.transform(path)\n",
    "    vectorizedRows.append(temp.toarray())\n",
    "print(len(vectorizedRows))\n",
    "print(vectorizedRows[:10])"
   ]
  },
  {
   "cell_type": "code",
   "execution_count": 45,
   "metadata": {},
   "outputs": [],
   "source": [
    "from sklearn.cluster import KMeans\n",
    "import numpy as np"
   ]
  },
  {
   "cell_type": "markdown",
   "metadata": {},
   "source": [
    "At this point, the vectorizedRows list is a List of arrays. Each array is a 1 by 119. So there are 119 features in this model...I think."
   ]
  },
  {
   "cell_type": "code",
   "execution_count": 49,
   "metadata": {},
   "outputs": [
    {
     "name": "stdout",
     "output_type": "stream",
     "text": [
      "(1000, 1, 119)\n",
      "(1000, 119)\n"
     ]
    }
   ],
   "source": [
    "print(np.array(vectorizedRows).shape)\n",
    "print(np.array(vectorizedRows).reshape(1000,119).shape)\n",
    "kmeans = KMeans(n_clusters=3, random_state=4)\n",
    "kmeans.fit(np.array(vectorizedRows).reshape(1000,119))\n"
   ]
  },
  {
   "cell_type": "code",
   "execution_count": 68,
   "metadata": {},
   "outputs": [
    {
     "name": "stdout",
     "output_type": "stream",
     "text": [
      "(7, 119)\n",
      "[0 1 0 1 0 0 0]\n"
     ]
    }
   ],
   "source": [
    "print(np.array(test.toarray()).shape)\n",
    "result = kmeans.predict(np.array(test.toarray()))\n",
    "print(result)"
   ]
  },
  {
   "cell_type": "code",
   "execution_count": null,
   "metadata": {},
   "outputs": [],
   "source": []
  }
 ],
 "metadata": {
  "kernelspec": {
   "display_name": "Python 3",
   "language": "python",
   "name": "python3"
  },
  "language_info": {
   "codemirror_mode": {
    "name": "ipython",
    "version": 3
   },
   "file_extension": ".py",
   "mimetype": "text/x-python",
   "name": "python",
   "nbconvert_exporter": "python",
   "pygments_lexer": "ipython3",
   "version": "3.6.5"
  }
 },
 "nbformat": 4,
 "nbformat_minor": 2
}
